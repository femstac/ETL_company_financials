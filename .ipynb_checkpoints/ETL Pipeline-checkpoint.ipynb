{
 "cells": [
  {
   "cell_type": "code",
   "execution_count": 1,
   "id": "2e1d7a1f-5ae0-4e14-bb6a-1c9a24054455",
   "metadata": {},
   "outputs": [],
   "source": [
    "from sqlalchemy import create_engine\n",
    "from sqlalchemy.orm import sessionmaker\n",
    "import pyodbc\n",
    "import pandas as pd\n",
    "import os\n",
    "import configparser as cp"
   ]
  },
  {
   "cell_type": "code",
   "execution_count": 2,
   "id": "ce79be43-2ba1-4de1-bf4d-31ad4f5031f3",
   "metadata": {},
   "outputs": [],
   "source": [
    "config= cp.ConfigParser()\n",
    "config.read('db_config.ini')\n",
    "\n",
    "pwd = config['secrets']['PGSQL_Comp_Fin_PASS']\n",
    "uid = config['secrets']['PGSQL_Comp_Fin_UID']"
   ]
  },
  {
   "cell_type": "code",
   "execution_count": 3,
   "id": "344f0560-a9c2-4194-a599-a8815f996be5",
   "metadata": {},
   "outputs": [],
   "source": [
    "server = \"localhost\"\n",
    "db = \"test_Company_Financials\"\n",
    "port = \"5432\"\n",
    "file_dir= \"C:\\\\Users\\\\USER\\\\Documents\\\\Python Scripts\\\\ETL Company Financials\"\n",
    "tbl_name = \"Company_Financials_table\""
   ]
  },
  {
   "cell_type": "code",
   "execution_count": null,
   "id": "c4e0caf7-657a-47b7-b4c0-f32a4be087a8",
   "metadata": {},
   "outputs": [],
   "source": []
  },
  {
   "cell_type": "code",
   "execution_count": null,
   "id": "4d177bb0-ee42-4143-a944-92c67843d230",
   "metadata": {},
   "outputs": [],
   "source": []
  },
  {
   "cell_type": "code",
   "execution_count": 4,
   "id": "bdcda24c-4597-4b8d-b104-305f0c1f43f5",
   "metadata": {},
   "outputs": [],
   "source": [
    "file_dir= \"C:\\\\Users\\\\USER\\\\Documents\\\\Python Scripts\\\\ETL Company Financials\"\n",
    "\n"
   ]
  },
  {
   "cell_type": "code",
   "execution_count": 5,
   "id": "d504a303-b19d-48ed-8e4f-10930418df55",
   "metadata": {},
   "outputs": [],
   "source": [
    "#Extract Function\n",
    "def extract_data_csv(csv_file):\n",
    "    try:\n",
    "        df= pd.read_csv(csv_file)\n",
    "        return df\n",
    "    \n",
    "    except:\n",
    "        print('Cant find file')\n",
    "         "
   ]
  },
  {
   "cell_type": "code",
   "execution_count": 6,
   "id": "9385e2e6-806d-4181-9019-ecdd728fc788",
   "metadata": {},
   "outputs": [],
   "source": [
    "# Transform Function\n",
    "\n",
    "integer_columns= 'Units Sold'\n",
    "\n",
    "float_columns = ['Manufacturing Price', 'Sale Price', 'Gross Sales', 'Discounts', 'Sales', 'COGS', 'Profit']\n",
    "\n",
    "date_columns = 'Date'\n",
    "\n",
    "non_essential_columns = ['Month Number', 'Month Name', 'Year'] \n",
    "\n",
    "Dimension_Columns = ['Segment','Country', 'Product']\n",
    "\n",
    "\n",
    "\n"
   ]
  },
  {
   "cell_type": "code",
   "execution_count": 14,
   "id": "7b03bbc2-f512-4d17-8084-9e4eac544f12",
   "metadata": {},
   "outputs": [],
   "source": [
    "\n",
    "\n",
    "\n",
    "# Transform Function\n",
    "\n",
    "integer_columns= 'Units Sold'\n",
    "\n",
    "float_columns = ['Manufacturing Price', 'Sale Price', 'Gross Sales', 'Discounts', 'Sales', 'COGS', 'Profit']\n",
    "\n",
    "date_columns = 'Date'\n",
    "\n",
    "non_essential_columns = ['Month Number', 'Month Name', 'Year'] \n",
    "\n",
    "Dimension_Columns = ['Segment','Country', 'Product']\n",
    "\n",
    "\n",
    "\n",
    "\n",
    "def transform_data_csv(extracted_data):\n",
    "    try:\n",
    "        df = extracted_data.copy()\n",
    "        \n",
    "        #select all the columns with string and object data types\n",
    "        df_obj = df.select_dtypes(['object','string'])\n",
    "        \n",
    "        #using the strip method to remove all trailing zeroes in the object columns\n",
    "        df[df_obj.columns] = df_obj.apply(lambda x: x.str.strip())\n",
    "        \n",
    "        \n",
    "        # Remove the leading and trailing spaces in the columns names\n",
    "        df.columns = df.columns.astype(str)\n",
    "        df.columns = df.columns.str.strip()\n",
    "        \n",
    "        \n",
    "        #Remove and/or Replace the following special characters in the tables '$', '-', ','\n",
    "        df = df.replace ({'\\$-':'0', ',':'','\\$':'', '\\(':'-', '\\)':''}, regex=True)\n",
    "        \n",
    "        \n",
    "        #Change data types\n",
    "        df[date_columns] = pd.to_datetime(df[date_columns])\n",
    "        df[float_columns]= df[float_columns].astype(float)\n",
    "        df[integer_columns] = df[integer_columns].astype(float)\n",
    "        \n",
    "        \n",
    "        # drop columns\n",
    "        df = df.drop(non_essential_columns, axis=1)\n",
    "        \n",
    "        \n",
    "              \n",
    "        df['Discount per Unit']= df['Discounts'] / df['Units Sold']\n",
    "\n",
    "        df['Percentage Profit'] = ((df['Profit'] / df['COGS']) *100).round(2)\n",
    "        df['Unit Cost of Production'] = (df['COGS'] / df['Units Sold'])\n",
    "        df = df.rename(columns={'Manufacturing Price': 'Unit Manufacturing Cost', 'Sale Price':'Unit Sale price'})\n",
    "        \n",
    "        \n",
    "        # Get the unique values from the 'Discount Band' column\n",
    "        discount_bands = df['Discount Band'].unique().tolist()\n",
    "        discount_codes = {item: i+1 for i, item in enumerate(discount_bands)}\n",
    "        \n",
    "        \n",
    "        def item_code(df, column_name):\n",
    "            unique_items = df[column_name].unique()\n",
    "            item_codes = {item: i+1 for i, item in enumerate(sorted(unique_items))}\n",
    "            return item_codes\n",
    "        \n",
    "        \n",
    "\n",
    "        for Dim_col in Dimension_Columns:\n",
    "            df[f'{Dim_col} ID'] = df[Dim_col].apply(lambda x: item_code(df, Dim_col)[x])\n",
    "\n",
    "\n",
    "        Segment_Dim = df[['Segment ID', 'Segment']].sort_values(by='Segment ID').drop_duplicates().reset_index(drop=True)\n",
    "\n",
    "        Country_Dim = df[['Country ID', 'Country']].sort_values(by='Country ID').drop_duplicates().reset_index(drop=True)\n",
    "\n",
    "        Product_Dim = df[['Product ID', 'Product']].sort_values(by='Product ID').drop_duplicates().reset_index(drop=True)\n",
    "\n",
    "\n",
    "        Discount_Band_Dim = pd.DataFrame(discount_bands, columns=['Discount Band'])\n",
    "        Discount_Band_Dim['Discount Band ID'] = Discount_Band_Dim['Discount Band'].apply(lambda x: discount_bands.index(x)+1)\n",
    "\n",
    "        Discount_Band_Dim = Discount_Band_Dim[['Discount Band ID', 'Discount Band']]\n",
    "         \n",
    "    \n",
    "        df['Discount Band ID'] = df['Discount Band'].apply(lambda x: discount_codes[x])\n",
    "        \n",
    "        tuples_tables = df, Segment_Dim, Country_Dim, Product_Dim, Discount_Band_Dim\n",
    "        \n",
    "        return  tuples_tables\n",
    "        \n",
    "    except:\n",
    "        print('failed to transform')"
   ]
  },
  {
   "cell_type": "code",
   "execution_count": 15,
   "id": "0dec7f55-3a28-46b1-857c-784d7e622963",
   "metadata": {},
   "outputs": [],
   "source": [
    "def load_csv_data(transformed_tables):\n",
    "    try:\n",
    " \n",
    "        df, Segment_Dim, Country_Dim, Product_Dim, Discount_Band_Dim = transformed_tables\n",
    "        \n",
    "        rows_imported = 0\n",
    "        \n",
    "        table_names = [tbl_name, 'Segments_table', 'Country_table', 'Product_table', 'Discount_Band_table']\n",
    "        \n",
    "        engine = create_engine(f'postgresql://{uid}:{pwd}@{server}:{port}/{db}')\n",
    "        \n",
    "        for table, name in zip(transformed_tables, table_names):\n",
    "            print (f' Importing {len(table)} rows to {name} table...')\n",
    "            \n",
    "            rows_imported +=len(table)\n",
    "            \n",
    "            table.to_sql(name, engine, if_exists= 'replace', index=False)\n",
    "            \n",
    "    \n",
    "    except: \n",
    "        print('Failed to Load')\n",
    "            \n",
    "           \n",
    "            \n",
    " \n"
   ]
  },
  {
   "cell_type": "code",
   "execution_count": null,
   "id": "cf95bcbc-aec3-4bda-9af2-d099465007a4",
   "metadata": {},
   "outputs": [],
   "source": []
  },
  {
   "cell_type": "code",
   "execution_count": null,
   "id": "63876d05-0684-4162-b0b6-1b95e997d77b",
   "metadata": {},
   "outputs": [],
   "source": []
  },
  {
   "cell_type": "code",
   "execution_count": null,
   "id": "245a8baa-3c09-48fa-bf55-17278e8a52ce",
   "metadata": {},
   "outputs": [],
   "source": []
  },
  {
   "cell_type": "code",
   "execution_count": 16,
   "id": "a2e2b2e3-969f-4f73-b672-6454fd22ac0a",
   "metadata": {},
   "outputs": [
    {
     "name": "stdout",
     "output_type": "stream",
     "text": [
      " Importing 700 rows to Company_Financials_table table...\n",
      " Importing 5 rows to Segments_table table...\n",
      " Importing 5 rows to Country_table table...\n",
      " Importing 6 rows to Product_table table...\n",
      " Importing 4 rows to Discount_Band_table table...\n"
     ]
    }
   ],
   "source": [
    "s= extract_data_csv('Financials.csv')\n",
    "\n",
    "h = transform_data_csv(s)\n",
    "\n",
    "k = load_csv_data(h)\n",
    "\n",
    "k\n",
    "\n"
   ]
  },
  {
   "cell_type": "code",
   "execution_count": null,
   "id": "e38ea93e-169b-4265-9a9f-5e34b0a80191",
   "metadata": {},
   "outputs": [],
   "source": []
  },
  {
   "cell_type": "code",
   "execution_count": null,
   "id": "f5f58317-63ac-417e-bb7f-8f07307d2242",
   "metadata": {},
   "outputs": [],
   "source": []
  },
  {
   "cell_type": "code",
   "execution_count": null,
   "id": "4d43d88b-5481-4eac-8bdf-3bc077ed1ead",
   "metadata": {},
   "outputs": [],
   "source": []
  },
  {
   "cell_type": "code",
   "execution_count": 97,
   "id": "e988c236-c3a5-4920-8d7d-32d5250fd763",
   "metadata": {},
   "outputs": [],
   "source": []
  },
  {
   "cell_type": "code",
   "execution_count": null,
   "id": "fb967828-bc0e-4e7b-8ccf-1411a59736c5",
   "metadata": {},
   "outputs": [],
   "source": []
  },
  {
   "cell_type": "code",
   "execution_count": null,
   "id": "9d183f09-da2b-484f-97a8-70a7afb8c4f8",
   "metadata": {},
   "outputs": [],
   "source": []
  },
  {
   "cell_type": "code",
   "execution_count": null,
   "id": "cb449d4e-998d-4434-9f87-8ad8720f3dab",
   "metadata": {},
   "outputs": [],
   "source": []
  },
  {
   "cell_type": "code",
   "execution_count": null,
   "id": "a26b6387-07d4-4151-8375-09b7d50a5a91",
   "metadata": {},
   "outputs": [],
   "source": []
  },
  {
   "cell_type": "code",
   "execution_count": null,
   "id": "b3a65751-6442-4042-b2a1-9492d6d70e65",
   "metadata": {},
   "outputs": [],
   "source": []
  },
  {
   "cell_type": "code",
   "execution_count": null,
   "id": "356aa7e3-e98b-415b-8da9-babfed8f652a",
   "metadata": {},
   "outputs": [],
   "source": []
  },
  {
   "cell_type": "code",
   "execution_count": 62,
   "id": "e332bada-e432-4b3b-8fe2-07cf1bee22ea",
   "metadata": {},
   "outputs": [],
   "source": []
  },
  {
   "cell_type": "code",
   "execution_count": 64,
   "id": "0ea209a6-aaf8-46da-ac21-ce13ff724a0f",
   "metadata": {},
   "outputs": [
    {
     "name": "stdout",
     "output_type": "stream",
     "text": [
      "failed to transform\n"
     ]
    }
   ],
   "source": []
  },
  {
   "cell_type": "code",
   "execution_count": null,
   "id": "23091cf2-eed8-4b03-b34d-292ae056e432",
   "metadata": {},
   "outputs": [],
   "source": []
  },
  {
   "cell_type": "code",
   "execution_count": null,
   "id": "f409d34b-c6b6-49d8-b421-3dcaa0dd59ff",
   "metadata": {},
   "outputs": [],
   "source": []
  },
  {
   "cell_type": "code",
   "execution_count": null,
   "id": "cd569ff2-dab9-4365-82fc-e3af6c056f99",
   "metadata": {},
   "outputs": [],
   "source": []
  },
  {
   "cell_type": "code",
   "execution_count": null,
   "id": "05ed7a05-c8e5-41fd-b7a2-775a73debedd",
   "metadata": {},
   "outputs": [],
   "source": []
  },
  {
   "cell_type": "code",
   "execution_count": 16,
   "id": "cc11916a-7cc2-43c4-829d-520cce7cdd8c",
   "metadata": {},
   "outputs": [
    {
     "ename": "SyntaxError",
     "evalue": "invalid syntax (1939684894.py, line 1)",
     "output_type": "error",
     "traceback": [
      "\u001b[1;36m  File \u001b[1;32m\"C:\\Users\\USER\\AppData\\Local\\Temp\\ipykernel_12012\\1939684894.py\"\u001b[1;36m, line \u001b[1;32m1\u001b[0m\n\u001b[1;33m    def load_data_csv(transformed_data): try: # unpack the tuple into five variables\u001b[0m\n\u001b[1;37m                                         ^\u001b[0m\n\u001b[1;31mSyntaxError\u001b[0m\u001b[1;31m:\u001b[0m invalid syntax\n"
     ]
    }
   ],
   "source": []
  },
  {
   "cell_type": "code",
   "execution_count": null,
   "id": "55134474-22b5-472f-a360-fe00a5fe47f5",
   "metadata": {},
   "outputs": [],
   "source": []
  },
  {
   "cell_type": "code",
   "execution_count": null,
   "id": "fd42fbfb-cb2c-4857-9abc-0eeb858c8a32",
   "metadata": {},
   "outputs": [],
   "source": []
  },
  {
   "cell_type": "code",
   "execution_count": null,
   "id": "f9ab387b-0a98-41e7-baeb-304b1c87bb22",
   "metadata": {},
   "outputs": [],
   "source": []
  },
  {
   "cell_type": "code",
   "execution_count": null,
   "id": "df22a9d4-a2dc-4506-9395-980f53999987",
   "metadata": {},
   "outputs": [],
   "source": []
  }
 ],
 "metadata": {
  "kernelspec": {
   "display_name": "Python 3 (ipykernel)",
   "language": "python",
   "name": "python3"
  },
  "language_info": {
   "codemirror_mode": {
    "name": "ipython",
    "version": 3
   },
   "file_extension": ".py",
   "mimetype": "text/x-python",
   "name": "python",
   "nbconvert_exporter": "python",
   "pygments_lexer": "ipython3",
   "version": "3.10.12"
  }
 },
 "nbformat": 4,
 "nbformat_minor": 5
}
